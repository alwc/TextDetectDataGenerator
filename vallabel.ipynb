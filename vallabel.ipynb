{
 "cells": [
  {
   "cell_type": "markdown",
   "metadata": {},
   "source": [
    "# 判断image和label差异"
   ]
  },
  {
   "cell_type": "code",
   "execution_count": null,
   "metadata": {},
   "outputs": [],
   "source": [
    "import os                                                               \n",
    "\n",
    "imgnames = os.listdir('./Artificial_img/')                              \n",
    "\n",
    "imgpaths = [os.path.join('./Artificial_img/',i) for i in imgnames]      \n",
    "\n",
    "for imgpath in imgpaths:\n",
    "    txtpath = imgpath.replace('Artificial_img','Artificial_label').replace(os.path.basename(imgpath),'gt_'+os.path.basename(imgpath)).replace('.jpg','.txt') \n",
    "    if not os.path.isfile(txtpath): \n",
    "        print(imgpath) \n"
   ]
  },
  {
   "cell_type": "markdown",
   "metadata": {},
   "source": [
    "# 验证label的准确性，画图显示"
   ]
  },
  {
   "cell_type": "code",
   "execution_count": null,
   "metadata": {
    "scrolled": true
   },
   "outputs": [],
   "source": [
    "import os\n",
    "from PIL import Image, ImageDraw\n",
    "import matplotlib.pyplot as plt\n",
    "\n",
    "imgpath = '/home/datalab/ex_disk/work/shengdan/dataset/ocr/Artificial_img/'\n",
    "imgnames = os.listdir(imgpath)\n",
    "imgpaths = [os.path.join(imgpath,i) for i in imgnames]  \n",
    "for imgpath in imgpaths:\n",
    "    txtpath = imgpath.replace('Artificial_img','Artificial_label').replace(os.path.basename(imgpath),'gt_'+os.path.basename(imgpath)).replace('.jpg','.txt') \n",
    "    if not os.path.isfile(txtpath): \n",
    "        print(imgpath) \n",
    "        \n",
    "    im = Image.open(imgpath)\n",
    "    draw =ImageDraw.Draw(im)\n",
    "    \n",
    "    with open(txtpath,'r') as f:\n",
    "        for line in f.readlines():\n",
    "            strline = line.split(',')\n",
    "            x0,y0,x1,y1,x2,y2,x3,y3 = int(strline[0]),int(strline[1]),int(strline[2]),int(strline[3]),int(strline[4]),int(strline[5]),int(strline[6]),int(strline[7])\n",
    "            print(x0,y0,x1,y1,x2,y2,x3,y3)\n",
    "            draw.line([(x0,y0),(x1,y1),(x2,y2),(x3,y3),(x0,y0)], fill = (255,0,0), width = 2)\n",
    "    \n",
    "    plt.figure()\n",
    "    plt.imshow(im)\n",
    "    plt.show()\n",
    "\n",
    "    "
   ]
  },
  {
   "cell_type": "markdown",
   "metadata": {},
   "source": [
    "# 取验证集"
   ]
  },
  {
   "cell_type": "code",
   "execution_count": 1,
   "metadata": {},
   "outputs": [],
   "source": [
    "import os\n",
    "import shutil\n",
    "import random\n",
    "\n",
    "imgpath = '/home/datalab/ex_disk/work/shengdan/dataset/ocr/Artificial_img/'\n",
    "imgnames = os.listdir(imgpath)\n",
    "imgpaths = [os.path.join(imgpath,i) for i in imgnames]  \n",
    "valsample = random.sample(imgpaths,600)\n",
    "\n",
    "for imgpath in valsample:\n",
    "#     print(imgpath)\n",
    "    dstimgpath = imgpath.replace('Artificial_img','Artificial_val_img')\n",
    "    \n",
    "    txtpath = imgpath.replace('Artificial_img','Artificial_label').replace(os.path.basename(imgpath),'gt_'+os.path.basename(imgpath)).replace('.jpg','.txt') \n",
    "    if not os.path.isfile(txtpath): \n",
    "        print(imgpath) \n",
    "    dsttxtpath = txtpath.replace('Artificial_label','Artificial_val_label')\n",
    "    \n",
    "    shutil.move(imgpath,dstimgpath)\n",
    "    shutil.move(txtpath,dsttxtpath)\n",
    "    "
   ]
  },
  {
   "cell_type": "markdown",
   "metadata": {},
   "source": [
    "# 取测试集"
   ]
  },
  {
   "cell_type": "code",
   "execution_count": 2,
   "metadata": {},
   "outputs": [],
   "source": [
    "import os\n",
    "import shutil\n",
    "import random\n",
    "\n",
    "imgpath = '/home/datalab/ex_disk/work/shengdan/dataset/ocr/Artificial_img/'\n",
    "imgnames = os.listdir(imgpath)\n",
    "imgpaths = [os.path.join(imgpath,i) for i in imgnames]  \n",
    "valsample = random.sample(imgpaths,200)\n",
    "\n",
    "for imgpath in valsample:\n",
    "\n",
    "    dstimgpath = imgpath.replace('Artificial_img','Artificial_test_img')\n",
    "    \n",
    "    txtpath = imgpath.replace('Artificial_img','Artificial_label').replace(os.path.basename(imgpath),'gt_'+os.path.basename(imgpath)).replace('.jpg','.txt') \n",
    "    if not os.path.isfile(txtpath): \n",
    "        print(imgpath) \n",
    "    dsttxtpath = txtpath.replace('Artificial_label','Artificial_test_label')\n",
    "    \n",
    "    shutil.move(imgpath,dstimgpath)\n",
    "    shutil.move(txtpath,dsttxtpath)"
   ]
  },
  {
   "cell_type": "code",
   "execution_count": null,
   "metadata": {},
   "outputs": [],
   "source": []
  }
 ],
 "metadata": {
  "kernelspec": {
   "display_name": "python36(shengdan)",
   "language": "python",
   "name": "py3.6"
  },
  "language_info": {
   "codemirror_mode": {
    "name": "ipython",
    "version": 3
   },
   "file_extension": ".py",
   "mimetype": "text/x-python",
   "name": "python",
   "nbconvert_exporter": "python",
   "pygments_lexer": "ipython3",
   "version": "3.6.5"
  }
 },
 "nbformat": 4,
 "nbformat_minor": 2
}
